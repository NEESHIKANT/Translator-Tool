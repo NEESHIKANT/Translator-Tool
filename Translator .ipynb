{
 "cells": [
  {
   "cell_type": "code",
   "execution_count": 2,
   "id": "85d0f600",
   "metadata": {},
   "outputs": [
    {
     "name": "stdout",
     "output_type": "stream",
     "text": [
      "Please input desired language code. To see the language code list enter 'options'\n",
      "options\n",
      "Code : Language\n",
      "en => English\n",
      "hi => Hindi\n",
      "fr => French\n",
      "ru => Russian\n",
      "es => Spanish\n",
      "\n",
      "Please input desired language code. To see the language code list enter 'options'\n",
      "es\n",
      "You have selected Spanish\n",
      "\n",
      "Write the text you want to translate: \n",
      "To exit the program write 'close'\n",
      "my name is neeshikant\n",
      "\n",
      "Spanish translation: mi nombre es neeshikant\n",
      "Pronunciation: my name is neeshikant\n",
      "\n",
      "Write the text you want to translate: \n",
      "To exit the program write 'close'\n",
      "close\n",
      "\n",
      "Have a nice day!\n"
     ]
    }
   ],
   "source": [
    "#Translator\n",
    "\n",
    "from googletrans import Translator\n",
    "\n",
    "translator = Translator()\n",
    "languages = {\"en\":\"English\",\n",
    "             \"hi\":\"Hindi\",\n",
    "             \"fr\":\"French\",\n",
    "             \"ru\":\"Russian\",\n",
    "             \"es\":\"Spanish\"}\n",
    "\n",
    "allow = True\n",
    "while allow :\n",
    "    user_code = input(f\"Please input desired language code. To see the language code list enter 'options'\\n\")\n",
    "    \n",
    "    if user_code == \"options\":\n",
    "        print(\"Code : Language\")\n",
    "        for i in languages.items():\n",
    "            print(f\"{i[0]} => {i[1]}\")\n",
    "        print()\n",
    "        \n",
    "    else:\n",
    "        for lan_code in languages.keys():\n",
    "            if lan_code == user_code:\n",
    "                print(f\"You have selected {languages[lan_code]}\")\n",
    "                allow = False\n",
    "        if allow:\n",
    "            print(\"It is not a valid language code!\")\n",
    "while True:\n",
    "    string= input(\"\\nWrite the text you want to translate: \\nTo exit the program write 'close'\\n\")\n",
    "    \n",
    "    if string == \"close\":\n",
    "        print(f\"\\nHave a nice day!\")\n",
    "        break\n",
    "                  \n",
    "    translated = translator.translate(string, dest=user_code)\n",
    "    \n",
    "    print(f\"\\n{languages[user_code]} translation: {translated.text}\")\n",
    "    print(f\"Pronunciation: {translated.pronunciation}\")\n",
    "    for i in languages.items():\n",
    "        if translated.src == i[0]:\n",
    "            print(f\"Translated from: {i[1]}\")\n"
   ]
  },
  {
   "cell_type": "code",
   "execution_count": null,
   "id": "dea53df8",
   "metadata": {},
   "outputs": [],
   "source": []
  }
 ],
 "metadata": {
  "kernelspec": {
   "display_name": "Python 3 (ipykernel)",
   "language": "python",
   "name": "python3"
  },
  "language_info": {
   "codemirror_mode": {
    "name": "ipython",
    "version": 3
   },
   "file_extension": ".py",
   "mimetype": "text/x-python",
   "name": "python",
   "nbconvert_exporter": "python",
   "pygments_lexer": "ipython3",
   "version": "3.10.6"
  }
 },
 "nbformat": 4,
 "nbformat_minor": 5
}
